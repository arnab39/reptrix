{
 "cells": [
  {
   "cell_type": "markdown",
   "metadata": {},
   "source": [
    "# Reptrix Tutorial \n",
    "\n",
    "In this tutorial, we show how to use reptrix to assess representations of a model pretrained using self-supervised learning. \n",
    "\n",
    "Here we use the [STL-10](https://cs.stanford.edu/~acoates/stl10/) dataset, which contains 10 classes of images. \n",
    "\n",
    "We will use the [Barlow Twins](https://arxiv.org/abs/2103.03230), and [DINO](https://arxiv.org/abs/2104.14294) models as examples.\n",
    "\n",
    "To assess the quality of the learned representations, we will use various metrics, including:\n",
    "\n",
    "- [**Alpha**](https://proceedings.neurips.cc/paper_files/paper/2022/hash/70596d70542c51c8d9b4e423f4bf2736-Abstract-Conference.html): This metric computes the eigenvalues of the covariance matrix of the representations and fits a power-law distribution to them. The exponent of the power-law distribution is called the alpha exponent, which measures the heavy-tailedness of the distribution. A lower alpha exponent indicates that the representations are more discriminative.\n",
    "\n",
    "- [**RankMe**](https://proceedings.mlr.press/v202/garrido23a): This metric computes the rank of the covariance matrix of the representations. A higher rank indicates representations of higher capacity.\n",
    "\n",
    "- [**LiDAR**](https://openreview.net/forum?id=f3g5XpL9Kb): This metric computes the rank of the Linear Discriminant Analysis (LDA) matrix constructed using representations of augmented versions of images. A higher rank indicates representations of higher discriminability.\n",
    "\n",
    "\n",
    "We will compute these metrics using the Reptrix library, which provides a convenient interface for representation analysis. Let's dive into the code and explore the evaluation process in detail.\n",
    "\n"
   ]
  },
  {
   "cell_type": "markdown",
   "metadata": {},
   "source": [
    "### Import Libraries, get device and define feature extraction function"
   ]
  },
  {
   "cell_type": "code",
   "execution_count": 1,
   "metadata": {},
   "outputs": [],
   "source": [
    "import torch\n",
    "import torchvision\n",
    "from tqdm import tqdm\n",
    "from reptrix import alpha, rankme, lidar\n",
    "import reptrix\n",
    "import time"
   ]
  },
  {
   "cell_type": "markdown",
   "metadata": {},
   "source": [
    "Get the device"
   ]
  },
  {
   "cell_type": "code",
   "execution_count": 2,
   "metadata": {},
   "outputs": [],
   "source": [
    "device = torch.device(\"cuda\" if torch.cuda.is_available() else \"cpu\")"
   ]
  },
  {
   "cell_type": "markdown",
   "metadata": {},
   "source": [
    "Function to get the features of from the pretrained encoder model using a dataset. "
   ]
  },
  {
   "cell_type": "code",
   "execution_count": 3,
   "metadata": {},
   "outputs": [],
   "source": [
    "def get_features(encoder_function, dataloader, transform=None, num_augmentations=10):\n",
    "    # Loop over the dataset and collect the representations\n",
    "    all_features = []\n",
    "\n",
    "    # Loop over the dataset and collect the representations\n",
    "    for i, data in enumerate(tqdm(dataloader, 0)):\n",
    "        inputs, _ = data\n",
    "        # apply multiple augmentations for each image\n",
    "        if transform:\n",
    "            inputs = torch.cat([transform(inputs) for _ in range(num_augmentations)], dim=0)\n",
    "        with torch.no_grad():\n",
    "            features = encoder_function(inputs.to(device))\n",
    "        if transform:\n",
    "            # put the augmentations in an additonal dimension\n",
    "            features = features.reshape(num_augmentations, -1, features.shape[1]).transpose(1,0)\n",
    "        all_features.append(features)\n",
    "            \n",
    "            \n",
    "    # Concatenate all the features\n",
    "    all_features = torch.cat(all_features, dim=0)\n",
    "    return all_features"
   ]
  },
  {
   "cell_type": "markdown",
   "metadata": {},
   "source": [
    "## Get the STL-10 dataset "
   ]
  },
  {
   "cell_type": "code",
   "execution_count": 4,
   "metadata": {},
   "outputs": [],
   "source": [
    "transform_to_tensor = torchvision.transforms.ToTensor()\n",
    "\n",
    "STL_MEAN = (0.4467, 0.4398, 0.4066)\n",
    "STL_STD = (0.2242, 0.2215, 0.2239)\n",
    "transform_base = torchvision.transforms.Normalize(STL_MEAN, STL_STD)\n",
    "\n",
    "# Define additional SSL transformations for the Lidar metric evaluation\n",
    "transform_ssl = torchvision.transforms.Compose([\n",
    "    torchvision.transforms.RandomHorizontalFlip(p=0.5),\n",
    "    torchvision.transforms.ColorJitter(brightness=0.4, contrast=0.4, saturation=0.4, hue=0.1),\n",
    "    torchvision.transforms.RandomGrayscale(p=0.2),\n",
    "    torchvision.transforms.RandomResizedCrop(\n",
    "        96, scale=(0.8, 1.0), \n",
    "        ratio=(0.75, (4/3)), \n",
    "        interpolation=torchvision.transforms.InterpolationMode.BICUBIC),\n",
    "    torchvision.transforms.Normalize(STL_MEAN, STL_STD)\n",
    "])\n",
    "    \n",
    "dataset_folder = '/network/datasets/stl10.var/stl10_torchvision'\n",
    "# Get the STL10 test dataset to measure the quality of the representations learned by the model\n",
    "# testset = torchvision.datasets.STL10(root='./data', split='test', download=False, transform=transform)\n",
    "testset = torchvision.datasets.STL10(root=dataset_folder, split='test', download=False, transform=transform_to_tensor)\n",
    "\n",
    "# Define a dataloader to load the test dataset\n",
    "testloader = torch.utils.data.DataLoader(testset, batch_size=256, shuffle=False, num_workers=4)"
   ]
  },
  {
   "cell_type": "markdown",
   "metadata": {},
   "source": [
    "## Load the pretrained models, extract the features and compute the metrics"
   ]
  },
  {
   "cell_type": "markdown",
   "metadata": {},
   "source": [
    "### 1. ResNet50 encoder trained with Barlow Twins\n",
    "\n",
    "In this section, we will evaluate the representations learned by an encoder trained with the Barlow Twins method."
   ]
  },
  {
   "cell_type": "code",
   "execution_count": 5,
   "metadata": {},
   "outputs": [
    {
     "name": "stderr",
     "output_type": "stream",
     "text": [
      "Using cache found in /home/mila/a/arnab.mondal/.cache/torch/hub/facebookresearch_barlowtwins_main\n",
      "/home/mila/a/arnab.mondal/.conda/envs/reptrix/lib/python3.10/site-packages/torchvision/models/_utils.py:208: UserWarning: The parameter 'pretrained' is deprecated since 0.13 and may be removed in the future, please use 'weights' instead.\n",
      "  warnings.warn(\n",
      "/home/mila/a/arnab.mondal/.conda/envs/reptrix/lib/python3.10/site-packages/torchvision/models/_utils.py:223: UserWarning: Arguments other than a weight enum or `None` for 'weights' are deprecated since 0.13 and may be removed in the future. The current behavior is equivalent to passing `weights=None`.\n",
      "  warnings.warn(msg)\n"
     ]
    }
   ],
   "source": [
    "# Define a resnet encoder using pytorch where you can load the weights from a pre-trained model\n",
    "# We will use encoder that is trained using Barlow Twins\n",
    "encoder = torch.hub.load('facebookresearch/barlowtwins:main', 'resnet50')\n",
    "# Remove the final fully connected layer so that the model outputs the 2048 feature vector\n",
    "encoder = torch.nn.Sequential(*(list(encoder.children())[:-1]))"
   ]
  },
  {
   "cell_type": "code",
   "execution_count": 6,
   "metadata": {},
   "outputs": [
    {
     "name": "stderr",
     "output_type": "stream",
     "text": [
      "100%|██████████| 32/32 [00:03<00:00,  9.16it/s]\n"
     ]
    }
   ],
   "source": [
    "# Move the model to the device\n",
    "encoder = encoder.to(device)\n",
    "\n",
    "# Set the model to evaluation mode\n",
    "encoder.eval()\n",
    "\n",
    "all_representations = get_features(encoder, testloader, transform=transform_base, num_augmentations=1)"
   ]
  },
  {
   "cell_type": "code",
   "execution_count": 7,
   "metadata": {},
   "outputs": [
    {
     "data": {
      "text/plain": [
       "torch.Size([8000, 1, 2048])"
      ]
     },
     "execution_count": 7,
     "metadata": {},
     "output_type": "execute_result"
    }
   ],
   "source": [
    "all_representations.shape"
   ]
  },
  {
   "cell_type": "code",
   "execution_count": 8,
   "metadata": {},
   "outputs": [],
   "source": [
    "start_time = time.time()\n",
    "metric_alpha = alpha.get_alpha(all_representations)\n",
    "alpha_time = time.time()\n",
    "metric_rankme = rankme.get_rankme(all_representations)\n",
    "rankme_time = time.time()\n",
    "alpha_compute_time = alpha_time - start_time\n",
    "rankme_compute_time = rankme_time - alpha_time"
   ]
  },
  {
   "cell_type": "code",
   "execution_count": 9,
   "metadata": {},
   "outputs": [
    {
     "data": {
      "image/png": "[encoded data removed]",
      "text/plain": [
       "<Figure size 640x480 with 1 Axes>"
      ]
     },
     "metadata": {},
     "output_type": "display_data"
    }
   ],
   "source": [
    "# Plot the eigenspectrum and the powerlaw fit\n",
    "eigenspectrum = reptrix.utils.get_eigenspectrum(all_representations.cpu())\n",
    "\n",
    "# reptrix.utils.plot_eigenspectrum(eigenspectrum)\n",
    "reptrix.alpha.plot_powerlaw(eigenspectrum, metric_alpha)"
   ]
  },
  {
   "cell_type": "code",
   "execution_count": 10,
   "metadata": {},
   "outputs": [
    {
     "name": "stderr",
     "output_type": "stream",
     "text": [
      "  0%|          | 0/32 [00:00<?, ?it/s]/network/scratch/g/ghosharn/conda_envs/ffcv_ssl_fastssl/lib/python3.9/site-packages/torchvision/transforms/functional.py:1603: UserWarning: The default value of the antialias parameter of all the resizing transforms (Resize(), RandomResizedCrop(), etc.) will change from None to True in v0.17, in order to be consistent across the PIL and Tensor backends. To suppress this warning, directly pass antialias=True (recommended, future default), antialias=None (current default, which means False for Tensors and True for PIL), or antialias=False (only works on Tensors - PIL will still use antialiasing). This also applies if you are using the inference transforms from the models weights: update the call to weights.transforms(antialias=True).\n",
      "  warnings.warn(\n",
      "100%|██████████| 32/32 [01:31<00:00,  2.87s/it]\n"
     ]
    },
    {
     "name": "stdout",
     "output_type": "stream",
     "text": [
      "Values of different metrics: Alpha: 0.9461134930695289, Rankme: 364.6830749511719, LiDAR: 102.7093505859375\n",
      "Compute time for different metrics: Alpha: 2.400s, Rankme: 2.364s, LiDAR: 7.929s\n"
     ]
    }
   ],
   "source": [
    "# Get features of all the augmentations for LiDAR metric evaluation\n",
    "num_augmentations = 10\n",
    "all_representations_ssl = get_features(encoder.forward, testloader, transform=transform_ssl, num_augmentations=num_augmentations)\n",
    "\n",
    "num_samples = all_representations_ssl.shape[0] // num_augmentations\n",
    "\n",
    "# Randomly sample num_samples number of samples from the all_representations_ssl\n",
    "ramdom_sample_index = torch.randperm(all_representations_ssl.shape[0])[:num_samples]\n",
    "subsampled_representations_ssl = all_representations_ssl[ramdom_sample_index]\n",
    "\n",
    "# Get the Lidar metric\n",
    "start_time = time.time()\n",
    "lidar_metric = lidar.get_lidar(subsampled_representations_ssl, num_samples, num_augmentations, del_sigma_augs=0.001)\n",
    "lidar_time = time.time()\n",
    "lidar_compute_time = lidar_time - start_time\n",
    "\n",
    "\n",
    "# For lidar metric evaluation, we need to use the SSL transformations over the test dataset\n",
    "\n",
    "print(f'Values of different metrics: Alpha: {metric_alpha[0]}, Rankme: {metric_rankme}, LiDAR: {lidar_metric}')\n",
    "print(f'Compute time for different metrics: Alpha: {alpha_compute_time:.3f}s, Rankme: {rankme_compute_time:.3f}s, LiDAR: {lidar_compute_time:.3f}s')"
   ]
  },
  {
   "cell_type": "markdown",
   "metadata": {},
   "source": [
    "### 2. Vit Encoder trained with DINO"
   ]
  },
  {
   "cell_type": "code",
   "execution_count": 11,
   "metadata": {},
   "outputs": [
    {
     "name": "stderr",
     "output_type": "stream",
     "text": [
      "Using cache found in /home/mila/g/ghosharn/.cache/torch/hub/facebookresearch_dino_main\n"
     ]
    }
   ],
   "source": [
    "# Define a vit encoder using pytorch where you can load the weights from a pre-trained model\n",
    "# We will use encoder that is trained using Dino\n",
    "encoder = torch.hub.load('facebookresearch/dino:main', 'dino_vits16')"
   ]
  },
  {
   "cell_type": "code",
   "execution_count": 12,
   "metadata": {},
   "outputs": [
    {
     "name": "stderr",
     "output_type": "stream",
     "text": [
      "100%|██████████| 32/32 [00:02<00:00, 10.68it/s]"
     ]
    },
    {
     "name": "stdout",
     "output_type": "stream",
     "text": [
      "Shape of the representations: torch.Size([8000, 1, 384])\n"
     ]
    },
    {
     "name": "stderr",
     "output_type": "stream",
     "text": [
      "\n"
     ]
    }
   ],
   "source": [
    "# Move the model to the device\n",
    "encoder = encoder.to(device)\n",
    "\n",
    "# Set the model to evaluation mode\n",
    "encoder.eval()\n",
    "    \n",
    "all_representations = get_features(encoder.forward, testloader, transform=transform_base, num_augmentations=1)\n",
    "\n",
    "print('Shape of the representations:', all_representations.shape) "
   ]
  },
  {
   "cell_type": "code",
   "execution_count": 13,
   "metadata": {},
   "outputs": [],
   "source": [
    "start_time = time.time()\n",
    "metric_alpha = alpha.get_alpha(all_representations)\n",
    "alpha_time = time.time()\n",
    "metric_rankme = rankme.get_rankme(all_representations)\n",
    "rankme_time = time.time()\n",
    "alpha_compute_time = alpha_time - start_time\n",
    "rankme_compute_time = rankme_time - alpha_time"
   ]
  },
  {
   "cell_type": "code",
   "execution_count": 14,
   "metadata": {},
   "outputs": [
    {
     "data": {
      "image/png": "[encoded data removed]",
      "text/plain": [
       "<Figure size 640x480 with 1 Axes>"
      ]
     },
     "metadata": {},
     "output_type": "display_data"
    }
   ],
   "source": [
    "# Plot the eigenspectrum and the powerlaw fit\n",
    "eigenspectrum = reptrix.utils.get_eigenspectrum(all_representations.cpu())\n",
    "\n",
    "# reptrix.utils.plot_eigenspectrum(eigenspectrum)\n",
    "reptrix.alpha.plot_powerlaw(eigenspectrum, metric_alpha)"
   ]
  },
  {
   "cell_type": "code",
   "execution_count": 15,
   "metadata": {},
   "outputs": [
    {
     "name": "stderr",
     "output_type": "stream",
     "text": [
      "  0%|          | 0/32 [00:00<?, ?it/s]/network/scratch/g/ghosharn/conda_envs/ffcv_ssl_fastssl/lib/python3.9/site-packages/torchvision/transforms/functional.py:1603: UserWarning: The default value of the antialias parameter of all the resizing transforms (Resize(), RandomResizedCrop(), etc.) will change from None to True in v0.17, in order to be consistent across the PIL and Tensor backends. To suppress this warning, directly pass antialias=True (recommended, future default), antialias=None (current default, which means False for Tensors and True for PIL), or antialias=False (only works on Tensors - PIL will still use antialiasing). This also applies if you are using the inference transforms from the models weights: update the call to weights.transforms(antialias=True).\n",
      "  warnings.warn(\n",
      "100%|██████████| 32/32 [01:31<00:00,  2.87s/it]\n"
     ]
    },
    {
     "name": "stdout",
     "output_type": "stream",
     "text": [
      "Shape of the representations after SSL transformations: torch.Size([8000, 10, 384])\n",
      "Values of different metrics: Alpha: 0.7854639552258638, Rankme: 156.16427612304688, LiDAR: 15.42029094696045\n",
      "Compute time for different metrics: Alpha: 0.137s, Rankme: 0.091s, LiDAR: 0.162s\n"
     ]
    }
   ],
   "source": [
    "# Get features of all the augmentations for LiDAR metric evaluation\n",
    "num_augmentations = 10\n",
    "all_representations_ssl = get_features(encoder.forward, testloader, transform=transform_ssl, num_augmentations=num_augmentations)\n",
    "\n",
    "print(\"Shape of the representations after SSL transformations:\", all_representations_ssl.shape)\n",
    "\n",
    "num_samples = all_representations_ssl.shape[0] // num_augmentations\n",
    "\n",
    "# Randomly sample num_samples number of samples from the all_representations_ssl\n",
    "ramdom_sample_index = torch.randperm(all_representations_ssl.shape[0])[:num_samples]\n",
    "subsampled_representations_ssl = all_representations_ssl[ramdom_sample_index]\n",
    "\n",
    "# Get the Lidar metric\n",
    "start_time = time.time()\n",
    "lidar_metric = lidar.get_lidar(subsampled_representations_ssl, num_samples, num_augmentations, del_sigma_augs=0.001)\n",
    "lidar_time = time.time()\n",
    "lidar_compute_time = lidar_time - start_time\n",
    "\n",
    "# For lidar metric evaluation, we need to use the SSL transformations over the test dataset\n",
    "\n",
    "print(f'Values of different metrics: Alpha: {metric_alpha[0]}, Rankme: {metric_rankme}, LiDAR: {lidar_metric}')\n",
    "print(f'Compute time for different metrics: Alpha: {alpha_compute_time:.3f}s, Rankme: {rankme_compute_time:.3f}s, LiDAR: {lidar_compute_time:.3f}s')"
   ]
  },
  {
   "cell_type": "code",
   "execution_count": null,
   "metadata": {},
   "outputs": [],
   "source": []
  }
 ],
 "metadata": {
  "kernelspec": {
   "display_name": "reptrix",
   "language": "python",
   "name": "ffcv_ssl_fastssl"
  },
  "language_info": {
   "codemirror_mode": {
    "name": "ipython",
    "version": 3
   },
   "file_extension": ".py",
   "mimetype": "text/x-python",
   "name": "python",
   "nbconvert_exporter": "python",
   "pygments_lexer": "ipython3",
   "version": "3.9.18"
  }
 },
 "nbformat": 4,
 "nbformat_minor": 4
}
